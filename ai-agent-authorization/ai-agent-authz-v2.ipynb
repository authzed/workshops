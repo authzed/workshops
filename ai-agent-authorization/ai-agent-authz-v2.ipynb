{
 "cells": [
  {
   "cell_type": "code",
   "execution_count": null,
   "id": "7bc368b2",
   "metadata": {},
   "outputs": [],
   "source": [
    "# ✅ Install dependencies\n",
    "%pip install openai pinecone-client authzed"
   ]
  },
  {
   "cell_type": "code",
   "execution_count": 8,
   "id": "6bd936f3",
   "metadata": {},
   "outputs": [
    {
     "data": {
      "text/plain": [
       "False"
      ]
     },
     "execution_count": 8,
     "metadata": {},
     "output_type": "execute_result"
    }
   ],
   "source": [
    "# ✅ Load environment and setup clients\n",
    "import os\n",
    "from dotenv import load_dotenv\n",
    "from authzed.api.v1 import Client, LookupResourcesRequest, ObjectReference, SubjectReference\n",
    "from grpcutil import insecure_bearer_token_credentials\n",
    "from pinecone import Pinecone\n",
    "from pinecone import ServerlessSpec\n",
    "from openai import OpenAI\n",
    "\n",
    "load_dotenv(override=True)"
   ]
  },
  {
   "cell_type": "code",
   "execution_count": null,
   "id": "4cfa1fd3",
   "metadata": {},
   "outputs": [
    {
     "ename": "AttributeError",
     "evalue": "'NoneType' object has no attribute 'encode'",
     "output_type": "error",
     "traceback": [
      "\u001b[0;31m---------------------------------------------------------------------------\u001b[0m",
      "\u001b[0;31mAttributeError\u001b[0m                            Traceback (most recent call last)",
      "Cell \u001b[0;32mIn[9], line 2\u001b[0m\n\u001b[1;32m      1\u001b[0m \u001b[38;5;66;03m# Connect to SpiceDB\u001b[39;00m\n\u001b[0;32m----> 2\u001b[0m spicedb_client \u001b[38;5;241m=\u001b[39m \u001b[43mClient\u001b[49m\u001b[43m(\u001b[49m\n\u001b[1;32m      3\u001b[0m \u001b[43m    \u001b[49m\u001b[43mos\u001b[49m\u001b[38;5;241;43m.\u001b[39;49m\u001b[43mgetenv\u001b[49m\u001b[43m(\u001b[49m\u001b[38;5;124;43m\"\u001b[39;49m\u001b[38;5;124;43mSPICEDB_ADDR\u001b[39;49m\u001b[38;5;124;43m\"\u001b[39;49m\u001b[43m)\u001b[49m\u001b[43m,\u001b[49m\n\u001b[1;32m      4\u001b[0m \u001b[43m    \u001b[49m\u001b[43minsecure_bearer_token_credentials\u001b[49m\u001b[43m(\u001b[49m\u001b[43mos\u001b[49m\u001b[38;5;241;43m.\u001b[39;49m\u001b[43mgetenv\u001b[49m\u001b[43m(\u001b[49m\u001b[38;5;124;43m\"\u001b[39;49m\u001b[38;5;124;43mSPICEDB_API_KEY\u001b[39;49m\u001b[38;5;124;43m\"\u001b[39;49m\u001b[43m)\u001b[49m\u001b[43m)\u001b[49m\n\u001b[1;32m      5\u001b[0m \u001b[43m)\u001b[49m\n\u001b[1;32m      7\u001b[0m \u001b[38;5;28mprint\u001b[39m (os\u001b[38;5;241m.\u001b[39mgetenv(\u001b[38;5;124m\"\u001b[39m\u001b[38;5;124mSPICEDB_API_KEY\u001b[39m\u001b[38;5;124m\"\u001b[39m))\n\u001b[1;32m      9\u001b[0m \u001b[38;5;66;03m# Connect to Pinecone\u001b[39;00m\n",
      "File \u001b[0;32m~/Library/Python/3.9/lib/python/site-packages/authzed/api/v1/__init__.py:76\u001b[0m, in \u001b[0;36mClient.__init__\u001b[0;34m(self, target, credentials, options, compression)\u001b[0m\n\u001b[1;32m     75\u001b[0m \u001b[38;5;28;01mdef\u001b[39;00m\u001b[38;5;250m \u001b[39m\u001b[38;5;21m__init__\u001b[39m(\u001b[38;5;28mself\u001b[39m, target, credentials, options\u001b[38;5;241m=\u001b[39m\u001b[38;5;28;01mNone\u001b[39;00m, compression\u001b[38;5;241m=\u001b[39m\u001b[38;5;28;01mNone\u001b[39;00m):\n\u001b[0;32m---> 76\u001b[0m     channel \u001b[38;5;241m=\u001b[39m \u001b[38;5;28;43mself\u001b[39;49m\u001b[38;5;241;43m.\u001b[39;49m\u001b[43mcreate_channel\u001b[49m\u001b[43m(\u001b[49m\u001b[43mtarget\u001b[49m\u001b[43m,\u001b[49m\u001b[43m \u001b[49m\u001b[43mcredentials\u001b[49m\u001b[43m,\u001b[49m\u001b[43m \u001b[49m\u001b[43moptions\u001b[49m\u001b[43m,\u001b[49m\u001b[43m \u001b[49m\u001b[43mcompression\u001b[49m\u001b[43m)\u001b[49m\n\u001b[1;32m     77\u001b[0m     \u001b[38;5;28mself\u001b[39m\u001b[38;5;241m.\u001b[39minit_stubs(channel)\n",
      "File \u001b[0;32m~/Library/Python/3.9/lib/python/site-packages/authzed/api/v1/__init__.py:92\u001b[0m, in \u001b[0;36mClient.create_channel\u001b[0;34m(self, target, credentials, options, compression)\u001b[0m\n\u001b[1;32m     89\u001b[0m \u001b[38;5;28;01mexcept\u001b[39;00m \u001b[38;5;167;01mRuntimeError\u001b[39;00m:\n\u001b[1;32m     90\u001b[0m     channelfn \u001b[38;5;241m=\u001b[39m grpc\u001b[38;5;241m.\u001b[39msecure_channel\n\u001b[0;32m---> 92\u001b[0m \u001b[38;5;28;01mreturn\u001b[39;00m \u001b[43mchannelfn\u001b[49m\u001b[43m(\u001b[49m\u001b[43mtarget\u001b[49m\u001b[43m,\u001b[49m\u001b[43m \u001b[49m\u001b[43mcredentials\u001b[49m\u001b[43m,\u001b[49m\u001b[43m \u001b[49m\u001b[43moptions\u001b[49m\u001b[43m,\u001b[49m\u001b[43m \u001b[49m\u001b[43mcompression\u001b[49m\u001b[43m)\u001b[49m\n",
      "File \u001b[0;32m~/Library/Python/3.9/lib/python/site-packages/grpc/aio/_channel.py:621\u001b[0m, in \u001b[0;36msecure_channel\u001b[0;34m(target, credentials, options, compression, interceptors)\u001b[0m\n\u001b[1;32m    599\u001b[0m \u001b[38;5;28;01mdef\u001b[39;00m\u001b[38;5;250m \u001b[39m\u001b[38;5;21msecure_channel\u001b[39m(\n\u001b[1;32m    600\u001b[0m     target: \u001b[38;5;28mstr\u001b[39m,\n\u001b[1;32m    601\u001b[0m     credentials: grpc\u001b[38;5;241m.\u001b[39mChannelCredentials,\n\u001b[0;32m   (...)\u001b[0m\n\u001b[1;32m    604\u001b[0m     interceptors: Optional[Sequence[ClientInterceptor]] \u001b[38;5;241m=\u001b[39m \u001b[38;5;28;01mNone\u001b[39;00m,\n\u001b[1;32m    605\u001b[0m ):\n\u001b[1;32m    606\u001b[0m \u001b[38;5;250m    \u001b[39m\u001b[38;5;124;03m\"\"\"Creates a secure asynchronous Channel to a server.\u001b[39;00m\n\u001b[1;32m    607\u001b[0m \n\u001b[1;32m    608\u001b[0m \u001b[38;5;124;03m    Args:\u001b[39;00m\n\u001b[0;32m   (...)\u001b[0m\n\u001b[1;32m    619\u001b[0m \u001b[38;5;124;03m      An aio.Channel.\u001b[39;00m\n\u001b[1;32m    620\u001b[0m \u001b[38;5;124;03m    \"\"\"\u001b[39;00m\n\u001b[0;32m--> 621\u001b[0m     \u001b[38;5;28;01mreturn\u001b[39;00m \u001b[43mChannel\u001b[49m\u001b[43m(\u001b[49m\n\u001b[1;32m    622\u001b[0m \u001b[43m        \u001b[49m\u001b[43mtarget\u001b[49m\u001b[43m,\u001b[49m\n\u001b[1;32m    623\u001b[0m \u001b[43m        \u001b[49m\u001b[43m(\u001b[49m\u001b[43m)\u001b[49m\u001b[43m \u001b[49m\u001b[38;5;28;43;01mif\u001b[39;49;00m\u001b[43m \u001b[49m\u001b[43moptions\u001b[49m\u001b[43m \u001b[49m\u001b[38;5;129;43;01mis\u001b[39;49;00m\u001b[43m \u001b[49m\u001b[38;5;28;43;01mNone\u001b[39;49;00m\u001b[43m \u001b[49m\u001b[38;5;28;43;01melse\u001b[39;49;00m\u001b[43m \u001b[49m\u001b[43moptions\u001b[49m\u001b[43m,\u001b[49m\n\u001b[1;32m    624\u001b[0m \u001b[43m        \u001b[49m\u001b[43mcredentials\u001b[49m\u001b[38;5;241;43m.\u001b[39;49m\u001b[43m_credentials\u001b[49m\u001b[43m,\u001b[49m\n\u001b[1;32m    625\u001b[0m \u001b[43m        \u001b[49m\u001b[43mcompression\u001b[49m\u001b[43m,\u001b[49m\n\u001b[1;32m    626\u001b[0m \u001b[43m        \u001b[49m\u001b[43minterceptors\u001b[49m\u001b[43m,\u001b[49m\n\u001b[1;32m    627\u001b[0m \u001b[43m    \u001b[49m\u001b[43m)\u001b[49m\n",
      "File \u001b[0;32m~/Library/Python/3.9/lib/python/site-packages/grpc/aio/_channel.py:369\u001b[0m, in \u001b[0;36mChannel.__init__\u001b[0;34m(self, target, options, credentials, compression, interceptors)\u001b[0m\n\u001b[1;32m    359\u001b[0m             \u001b[38;5;28;01mraise\u001b[39;00m \u001b[38;5;167;01mValueError\u001b[39;00m(\n\u001b[1;32m    360\u001b[0m                 \u001b[38;5;124m\"\u001b[39m\u001b[38;5;124mInterceptor \u001b[39m\u001b[38;5;132;01m{}\u001b[39;00m\u001b[38;5;124m must be \u001b[39m\u001b[38;5;124m\"\u001b[39m\u001b[38;5;241m.\u001b[39mformat(interceptor)\n\u001b[1;32m    361\u001b[0m                 \u001b[38;5;241m+\u001b[39m \u001b[38;5;124m\"\u001b[39m\u001b[38;5;132;01m{}\u001b[39;00m\u001b[38;5;124m or \u001b[39m\u001b[38;5;124m\"\u001b[39m\u001b[38;5;241m.\u001b[39mformat(UnaryUnaryClientInterceptor\u001b[38;5;241m.\u001b[39m\u001b[38;5;18m__name__\u001b[39m)\n\u001b[0;32m   (...)\u001b[0m\n\u001b[1;32m    364\u001b[0m                 \u001b[38;5;241m+\u001b[39m \u001b[38;5;124m\"\u001b[39m\u001b[38;5;132;01m{}\u001b[39;00m\u001b[38;5;124m. \u001b[39m\u001b[38;5;124m\"\u001b[39m\u001b[38;5;241m.\u001b[39mformat(StreamStreamClientInterceptor\u001b[38;5;241m.\u001b[39m\u001b[38;5;18m__name__\u001b[39m)\n\u001b[1;32m    365\u001b[0m             )\n\u001b[1;32m    367\u001b[0m \u001b[38;5;28mself\u001b[39m\u001b[38;5;241m.\u001b[39m_loop \u001b[38;5;241m=\u001b[39m cygrpc\u001b[38;5;241m.\u001b[39mget_working_loop()\n\u001b[1;32m    368\u001b[0m \u001b[38;5;28mself\u001b[39m\u001b[38;5;241m.\u001b[39m_channel \u001b[38;5;241m=\u001b[39m cygrpc\u001b[38;5;241m.\u001b[39mAioChannel(\n\u001b[0;32m--> 369\u001b[0m     \u001b[43m_common\u001b[49m\u001b[38;5;241;43m.\u001b[39;49m\u001b[43mencode\u001b[49m\u001b[43m(\u001b[49m\u001b[43mtarget\u001b[49m\u001b[43m)\u001b[49m,\n\u001b[1;32m    370\u001b[0m     _augment_channel_arguments(options, compression),\n\u001b[1;32m    371\u001b[0m     credentials,\n\u001b[1;32m    372\u001b[0m     \u001b[38;5;28mself\u001b[39m\u001b[38;5;241m.\u001b[39m_loop,\n\u001b[1;32m    373\u001b[0m )\n",
      "File \u001b[0;32m~/Library/Python/3.9/lib/python/site-packages/grpc/_common.py:71\u001b[0m, in \u001b[0;36mencode\u001b[0;34m(s)\u001b[0m\n\u001b[1;32m     69\u001b[0m     \u001b[38;5;28;01mreturn\u001b[39;00m s\n\u001b[1;32m     70\u001b[0m \u001b[38;5;28;01melse\u001b[39;00m:\n\u001b[0;32m---> 71\u001b[0m     \u001b[38;5;28;01mreturn\u001b[39;00m \u001b[43ms\u001b[49m\u001b[38;5;241;43m.\u001b[39;49m\u001b[43mencode\u001b[49m(\u001b[38;5;124m\"\u001b[39m\u001b[38;5;124mutf8\u001b[39m\u001b[38;5;124m\"\u001b[39m)\n",
      "\u001b[0;31mAttributeError\u001b[0m: 'NoneType' object has no attribute 'encode'"
     ]
    }
   ],
   "source": [
    "# Connect to SpiceDB\n",
    "spicedb_client = Client(\n",
    "    os.getenv(\"SPICEDB_ADDR\"),\n",
    "    insecure_bearer_token_credentials(os.getenv(\"SPICEDB_API_KEY\"))\n",
    ")\n",
    "\n",
    "print (os.getenv(\"SPICEDB_API_KEY\"))\n",
    "\n",
    "# Connect to Pinecone\n",
    "pc = Pinecone(api_key=os.getenv(\"PINECONE_API_KEY\"))\n",
    "\n",
    "index_name = \"agents\"\n",
    "\n",
    "pc.create_index(\n",
    "    name=index_name,\n",
    "    dimension=1536,\n",
    "    metric=\"cosine\",\n",
    "    spec=ServerlessSpec(\n",
    "        cloud=\"aws\",\n",
    "        region=\"us-east-1\"\n",
    "    )\n",
    ")\n",
    "\n",
    "index = pc.Index(index_name)\n",
    "\n",
    "# Connect to OpenAI\n",
    "openai_client = OpenAI(api_key=os.getenv(\"OPENAI_API_KEY\"))"
   ]
  },
  {
   "cell_type": "code",
   "execution_count": null,
   "id": "dbff5c64",
   "metadata": {},
   "outputs": [
    {
     "name": "stdout",
     "output_type": "stream",
     "text": [
      "✅ SpiceDB schema applied.\n"
     ]
    }
   ],
   "source": [
    "# ✅ Define SpiceDB Schema\n",
    "from authzed.api.v1 import WriteSchemaRequest\n",
    "\n",
    "SCHEMA = \"\"\"\n",
    "definition agent {}\n",
    "\n",
    "definition document {\n",
    "    relation reader: agent\n",
    "    permission read = reader\n",
    "}\n",
    "\"\"\"\n",
    "\n",
    "try:\n",
    "    await spicedb_client.WriteSchema(WriteSchemaRequest(schema=SCHEMA))\n",
    "    print(\"✅ SpiceDB schema applied.\")\n",
    "except Exception as e:\n",
    "    print(f\"❌ Schema error: {type(e).__name__}: {e}\")"
   ]
  },
  {
   "cell_type": "code",
   "execution_count": null,
   "id": "778ff0fd",
   "metadata": {},
   "outputs": [
    {
     "name": "stdout",
     "output_type": "stream",
     "text": [
      "✅ Relationships written.\n"
     ]
    }
   ],
   "source": [
    "from authzed.api.v1 import (\n",
    "    ObjectReference,\n",
    "    Relationship,\n",
    "    RelationshipUpdate,\n",
    "    SubjectReference,\n",
    "    WriteRelationshipsRequest,\n",
    ")\n",
    "\n",
    "relationships = [\n",
    "    (\"doc-1\", \"sales-agent\"),\n",
    "    (\"doc-2\", \"sales-agent\"),\n",
    "    (\"doc-3\", \"hr-agent\"),\n",
    "]\n",
    "\n",
    "updates = [\n",
    "    RelationshipUpdate(\n",
    "        operation=RelationshipUpdate.Operation.OPERATION_TOUCH,\n",
    "        relationship=Relationship(\n",
    "            resource=ObjectReference(object_type=\"document\", object_id=doc),\n",
    "            relation=\"reader\",\n",
    "            subject=SubjectReference(\n",
    "                object=ObjectReference(object_type=\"agent\", object_id=agent)\n",
    "            ),\n",
    "        ),\n",
    "    )\n",
    "    for doc, agent in relationships\n",
    "]\n",
    "\n",
    "try:\n",
    "    await spicedb_client.WriteRelationships(WriteRelationshipsRequest(updates=updates))\n",
    "    print(\"✅ Relationships written.\")\n",
    "except Exception as e:\n",
    "    print(f\"❌ Relationship error: {type(e).__name__}: {e}\")"
   ]
  },
  {
   "cell_type": "code",
   "execution_count": null,
   "id": "adcda264",
   "metadata": {},
   "outputs": [
    {
     "name": "stdout",
     "output_type": "stream",
     "text": [
      "✅ Documents upserted to Pinecone.\n"
     ]
    }
   ],
   "source": [
    "# ✅ Upsert example documents to Pinecone\n",
    "def get_query_embedding(text):\n",
    "    response = openai_client.embeddings.create(\n",
    "        model=\"text-embedding-ada-002\", input=text\n",
    "    )\n",
    "    return response.data[0].embedding\n",
    "\n",
    "documents = [\n",
    "    {\"doc_id\": \"doc-1\", \"text\": \"Sales reports for Q4 2024, 33% increase in revenue this quarter!\"},\n",
    "    {\"doc_id\": \"doc-2\", \"text\": \"Customer usecases for sales team\"},\n",
    "    {\"doc_id\": \"doc-3\", \"text\": \"Employee handbook for company policies and benefits.\"}\n",
    "]\n",
    "\n",
    "to_upsert = []\n",
    "for i, doc in enumerate(documents):\n",
    "    embedding = get_query_embedding(doc[\"text\"])\n",
    "    to_upsert.append({\n",
    "        \"id\": f\"demo-doc-{i}\",\n",
    "        \"values\": embedding,\n",
    "        \"metadata\": {\"doc_id\": doc[\"doc_id\"], \"text\": doc[\"text\"]}\n",
    "    })\n",
    "\n",
    "index.upsert(vectors=to_upsert)\n",
    "print(\"✅ Documents upserted to Pinecone.\")"
   ]
  },
  {
   "cell_type": "code",
   "execution_count": null,
   "id": "21557557",
   "metadata": {},
   "outputs": [],
   "source": [
    "# ✅ Helper: Get authorized documents for agent\n",
    "async def get_authorized_documents(agent_id: str):\n",
    "    subject = SubjectReference(\n",
    "        object=ObjectReference(object_type=\"agent\", object_id=agent_id)\n",
    "    )\n",
    "    lookup = spicedb_client.LookupResources(\n",
    "        LookupResourcesRequest(\n",
    "            subject=subject,\n",
    "            permission=\"read\",\n",
    "            resource_object_type=\"document\",\n",
    "        )\n",
    "    )\n",
    "\n",
    "    authorized = []\n",
    "    async for res in lookup:\n",
    "        authorized.append(res.resource_object_id)\n",
    "    return authorized\n",
    "    \n",
    "\n",
    "# ✅ Main query function with secure pre-check\n",
    "def get_query_embedding(text):\n",
    "    response = openai_client.embeddings.create(\n",
    "        model=\"text-embedding-ada-002\", input=text\n",
    "    )\n",
    "    return response.data[0].embedding"
   ]
  },
  {
   "cell_type": "code",
   "execution_count": null,
   "id": "a8e18a87",
   "metadata": {},
   "outputs": [],
   "source": [
    "import re\n",
    "\n",
    "async def query_rag_with_authz(agent_id, user_query):\n",
    "    vector = get_query_embedding(user_query)\n",
    "    pinecone_results = index.query(vector=vector, top_k=5, include_metadata=True)\n",
    "\n",
    "    allowed_ids = await get_authorized_documents(agent_id)\n",
    "    print(f\"🎯 Allowed IDs: {allowed_ids}\")\n",
    "\n",
    "    results_output = []\n",
    "    unauthorized_docs = []\n",
    "\n",
    "    for match in pinecone_results[\"matches\"]:\n",
    "        doc_id = match[\"metadata\"].get(\"doc_id\")\n",
    "        print(f\"🔎 Checking doc_id: {doc_id}\")\n",
    "\n",
    "        if doc_id in allowed_ids:\n",
    "            results_output.append(f\"[Authorized: {doc_id}]\\n{match['metadata']['text']}\")\n",
    "        else:\n",
    "            results_output.append(f\"[Not authorized: {doc_id}]\\nYou are not authorized to view the contents of document '{doc_id}'.\")\n",
    "            unauthorized_docs.append(doc_id)\n",
    "    \n",
    "    for doc_id in unauthorized_docs:\n",
    "        pattern = r'\\b' + re.escape(doc_id) + r'\\b'\n",
    "        if re.search(pattern, user_query):\n",
    "            return f\"You are not authorized to view the contents of document '{doc_id}'.\"\n",
    "    \n",
    "    if not results_output:\n",
    "        return \"⛔ No matching documents found.\"\n",
    "    \n",
    "    prompt = (\n",
    "        \"You are an AI assistant. Answer ONLY based on the following context.\\n\\n\"\n",
    "        + \"\\n\\n\".join(results_output)\n",
    "        + f\"\\n\\nQ: {user_query}\\nA:\"\n",
    "    )\n",
    "\n",
    "    chat = openai_client.chat.completions.create(\n",
    "        model=\"gpt-4\",\n",
    "        messages=[{\"role\": \"user\", \"content\": prompt}],\n",
    "        temperature=0\n",
    "    )\n",
    "\n",
    "    return chat.choices[0].message.content"
   ]
  },
  {
   "cell_type": "code",
   "execution_count": null,
   "id": "6ca7dfd2",
   "metadata": {},
   "outputs": [
    {
     "name": "stdout",
     "output_type": "stream",
     "text": [
      "🎯 Allowed IDs: ['doc-1']\n",
      "🔎 Checking doc_id: doc-3\n",
      "🔎 Checking doc_id: doc-2\n",
      "🔎 Checking doc_id: doc-1\n"
     ]
    },
    {
     "data": {
      "text/plain": [
       "'The content of project doc-1 is sales reports for Q4 2024, not for external distribution.'"
      ]
     },
     "metadata": {},
     "output_type": "display_data"
    }
   ],
   "source": [
    "# ✅ Demo test\n",
    "await query_rag_with_authz(\"sales-agent\", \"What is the content of project doc-1?\")"
   ]
  },
  {
   "cell_type": "code",
   "execution_count": null,
   "id": "dd1d26fd",
   "metadata": {},
   "outputs": [],
   "source": [
    "# ❌ Remove permission for sales-agent to view doc-2\n",
    "\n",
    "try: \n",
    "    resp = await spicedb_client.WriteRelationships(\n",
    "        WriteRelationshipsRequest(\n",
    "            updates=[\n",
    "                RelationshipUpdate(\n",
    "                    operation=RelationshipUpdate.Operation.OPERATION_DELETE,\n",
    "                    relationship=Relationship(\n",
    "                        resource=ObjectReference(object_type=\"document\", object_id=\"doc-2\"),\n",
    "                        relation=\"reader\",\n",
    "                        subject=SubjectReference(\n",
    "                            object=ObjectReference(\n",
    "                                object_type=\"agent\",\n",
    "                                object_id=\"sales-agent\",\n",
    "                            )\n",
    "                        ),\n",
    "                    ),\n",
    "                ),\n",
    "            ]\n",
    "        )\n",
    "    )\n",
    "except Exception as e:\n",
    "    print(f\"Write relationships error: {type(e).__name__}: {e}\")"
   ]
  },
  {
   "cell_type": "code",
   "execution_count": null,
   "id": "fea41ae1",
   "metadata": {},
   "outputs": [
    {
     "name": "stdout",
     "output_type": "stream",
     "text": [
      "🎯 Allowed IDs: ['doc-1']\n",
      "🔎 Checking doc_id: doc-3\n",
      "🔎 Checking doc_id: doc-2\n",
      "🔎 Checking doc_id: doc-1\n"
     ]
    },
    {
     "data": {
      "text/plain": [
       "\"You are not authorized to view the contents of document 'doc-2'.\""
      ]
     },
     "metadata": {},
     "output_type": "display_data"
    }
   ],
   "source": [
    "# ✅ Demo test\n",
    "await query_rag_with_authz(\"sales-agent\", \"What is the content of project doc-2?\")"
   ]
  }
 ],
 "metadata": {
  "kernelspec": {
   "display_name": "Python 3 (ipykernel)",
   "language": "python",
   "name": "python3"
  },
  "language_info": {
   "codemirror_mode": {
    "name": "ipython",
    "version": 3
   },
   "file_extension": ".py",
   "mimetype": "text/x-python",
   "name": "python",
   "nbconvert_exporter": "python",
   "pygments_lexer": "ipython3",
   "version": "3.9.6"
  }
 },
 "nbformat": 4,
 "nbformat_minor": 5
}
